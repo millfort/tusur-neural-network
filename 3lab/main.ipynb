{
 "cells": [
  {
   "cell_type": "code",
   "execution_count": 1,
   "id": "likely-modification",
   "metadata": {},
   "outputs": [],
   "source": [
    "import pandas as pd\n",
    "import numpy as np"
   ]
  },
  {
   "cell_type": "code",
   "execution_count": 2,
   "id": "solar-cookbook",
   "metadata": {},
   "outputs": [],
   "source": [
    "#Загрузка набора данных\n",
    "df=pd.read_csv('day.csv')"
   ]
  },
  {
   "cell_type": "code",
   "execution_count": 3,
   "id": "acting-company",
   "metadata": {},
   "outputs": [
    {
     "data": {
      "text/html": [
       "<div>\n",
       "<style scoped>\n",
       "    .dataframe tbody tr th:only-of-type {\n",
       "        vertical-align: middle;\n",
       "    }\n",
       "\n",
       "    .dataframe tbody tr th {\n",
       "        vertical-align: top;\n",
       "    }\n",
       "\n",
       "    .dataframe thead th {\n",
       "        text-align: right;\n",
       "    }\n",
       "</style>\n",
       "<table border=\"1\" class=\"dataframe\">\n",
       "  <thead>\n",
       "    <tr style=\"text-align: right;\">\n",
       "      <th></th>\n",
       "      <th>instant</th>\n",
       "      <th>season</th>\n",
       "      <th>yr</th>\n",
       "      <th>mnth</th>\n",
       "      <th>holiday</th>\n",
       "      <th>weekday</th>\n",
       "      <th>workingday</th>\n",
       "      <th>weathersit</th>\n",
       "      <th>temp</th>\n",
       "      <th>atemp</th>\n",
       "      <th>hum</th>\n",
       "      <th>windspeed</th>\n",
       "      <th>casual</th>\n",
       "      <th>registered</th>\n",
       "      <th>cnt</th>\n",
       "    </tr>\n",
       "  </thead>\n",
       "  <tbody>\n",
       "    <tr>\n",
       "      <th>count</th>\n",
       "      <td>731.000000</td>\n",
       "      <td>731.000000</td>\n",
       "      <td>731.000000</td>\n",
       "      <td>731.000000</td>\n",
       "      <td>731.000000</td>\n",
       "      <td>731.000000</td>\n",
       "      <td>731.000000</td>\n",
       "      <td>731.000000</td>\n",
       "      <td>731.000000</td>\n",
       "      <td>731.000000</td>\n",
       "      <td>731.000000</td>\n",
       "      <td>731.000000</td>\n",
       "      <td>731.000000</td>\n",
       "      <td>731.000000</td>\n",
       "      <td>731.000000</td>\n",
       "    </tr>\n",
       "    <tr>\n",
       "      <th>mean</th>\n",
       "      <td>366.000000</td>\n",
       "      <td>2.496580</td>\n",
       "      <td>0.500684</td>\n",
       "      <td>6.519836</td>\n",
       "      <td>0.028728</td>\n",
       "      <td>2.997264</td>\n",
       "      <td>0.683995</td>\n",
       "      <td>1.395349</td>\n",
       "      <td>0.495385</td>\n",
       "      <td>0.474354</td>\n",
       "      <td>0.627894</td>\n",
       "      <td>0.190486</td>\n",
       "      <td>848.176471</td>\n",
       "      <td>3656.172367</td>\n",
       "      <td>4504.348837</td>\n",
       "    </tr>\n",
       "    <tr>\n",
       "      <th>std</th>\n",
       "      <td>211.165812</td>\n",
       "      <td>1.110807</td>\n",
       "      <td>0.500342</td>\n",
       "      <td>3.451913</td>\n",
       "      <td>0.167155</td>\n",
       "      <td>2.004787</td>\n",
       "      <td>0.465233</td>\n",
       "      <td>0.544894</td>\n",
       "      <td>0.183051</td>\n",
       "      <td>0.162961</td>\n",
       "      <td>0.142429</td>\n",
       "      <td>0.077498</td>\n",
       "      <td>686.622488</td>\n",
       "      <td>1560.256377</td>\n",
       "      <td>1937.211452</td>\n",
       "    </tr>\n",
       "    <tr>\n",
       "      <th>min</th>\n",
       "      <td>1.000000</td>\n",
       "      <td>1.000000</td>\n",
       "      <td>0.000000</td>\n",
       "      <td>1.000000</td>\n",
       "      <td>0.000000</td>\n",
       "      <td>0.000000</td>\n",
       "      <td>0.000000</td>\n",
       "      <td>1.000000</td>\n",
       "      <td>0.059130</td>\n",
       "      <td>0.079070</td>\n",
       "      <td>0.000000</td>\n",
       "      <td>0.022392</td>\n",
       "      <td>2.000000</td>\n",
       "      <td>20.000000</td>\n",
       "      <td>22.000000</td>\n",
       "    </tr>\n",
       "    <tr>\n",
       "      <th>25%</th>\n",
       "      <td>183.500000</td>\n",
       "      <td>2.000000</td>\n",
       "      <td>0.000000</td>\n",
       "      <td>4.000000</td>\n",
       "      <td>0.000000</td>\n",
       "      <td>1.000000</td>\n",
       "      <td>0.000000</td>\n",
       "      <td>1.000000</td>\n",
       "      <td>0.337083</td>\n",
       "      <td>0.337842</td>\n",
       "      <td>0.520000</td>\n",
       "      <td>0.134950</td>\n",
       "      <td>315.500000</td>\n",
       "      <td>2497.000000</td>\n",
       "      <td>3152.000000</td>\n",
       "    </tr>\n",
       "    <tr>\n",
       "      <th>50%</th>\n",
       "      <td>366.000000</td>\n",
       "      <td>3.000000</td>\n",
       "      <td>1.000000</td>\n",
       "      <td>7.000000</td>\n",
       "      <td>0.000000</td>\n",
       "      <td>3.000000</td>\n",
       "      <td>1.000000</td>\n",
       "      <td>1.000000</td>\n",
       "      <td>0.498333</td>\n",
       "      <td>0.486733</td>\n",
       "      <td>0.626667</td>\n",
       "      <td>0.180975</td>\n",
       "      <td>713.000000</td>\n",
       "      <td>3662.000000</td>\n",
       "      <td>4548.000000</td>\n",
       "    </tr>\n",
       "    <tr>\n",
       "      <th>75%</th>\n",
       "      <td>548.500000</td>\n",
       "      <td>3.000000</td>\n",
       "      <td>1.000000</td>\n",
       "      <td>10.000000</td>\n",
       "      <td>0.000000</td>\n",
       "      <td>5.000000</td>\n",
       "      <td>1.000000</td>\n",
       "      <td>2.000000</td>\n",
       "      <td>0.655417</td>\n",
       "      <td>0.608602</td>\n",
       "      <td>0.730209</td>\n",
       "      <td>0.233214</td>\n",
       "      <td>1096.000000</td>\n",
       "      <td>4776.500000</td>\n",
       "      <td>5956.000000</td>\n",
       "    </tr>\n",
       "    <tr>\n",
       "      <th>max</th>\n",
       "      <td>731.000000</td>\n",
       "      <td>4.000000</td>\n",
       "      <td>1.000000</td>\n",
       "      <td>12.000000</td>\n",
       "      <td>1.000000</td>\n",
       "      <td>6.000000</td>\n",
       "      <td>1.000000</td>\n",
       "      <td>3.000000</td>\n",
       "      <td>0.861667</td>\n",
       "      <td>0.840896</td>\n",
       "      <td>0.972500</td>\n",
       "      <td>0.507463</td>\n",
       "      <td>3410.000000</td>\n",
       "      <td>6946.000000</td>\n",
       "      <td>8714.000000</td>\n",
       "    </tr>\n",
       "  </tbody>\n",
       "</table>\n",
       "</div>"
      ],
      "text/plain": [
       "          instant      season          yr        mnth     holiday     weekday  \\\n",
       "count  731.000000  731.000000  731.000000  731.000000  731.000000  731.000000   \n",
       "mean   366.000000    2.496580    0.500684    6.519836    0.028728    2.997264   \n",
       "std    211.165812    1.110807    0.500342    3.451913    0.167155    2.004787   \n",
       "min      1.000000    1.000000    0.000000    1.000000    0.000000    0.000000   \n",
       "25%    183.500000    2.000000    0.000000    4.000000    0.000000    1.000000   \n",
       "50%    366.000000    3.000000    1.000000    7.000000    0.000000    3.000000   \n",
       "75%    548.500000    3.000000    1.000000   10.000000    0.000000    5.000000   \n",
       "max    731.000000    4.000000    1.000000   12.000000    1.000000    6.000000   \n",
       "\n",
       "       workingday  weathersit        temp       atemp         hum   windspeed  \\\n",
       "count  731.000000  731.000000  731.000000  731.000000  731.000000  731.000000   \n",
       "mean     0.683995    1.395349    0.495385    0.474354    0.627894    0.190486   \n",
       "std      0.465233    0.544894    0.183051    0.162961    0.142429    0.077498   \n",
       "min      0.000000    1.000000    0.059130    0.079070    0.000000    0.022392   \n",
       "25%      0.000000    1.000000    0.337083    0.337842    0.520000    0.134950   \n",
       "50%      1.000000    1.000000    0.498333    0.486733    0.626667    0.180975   \n",
       "75%      1.000000    2.000000    0.655417    0.608602    0.730209    0.233214   \n",
       "max      1.000000    3.000000    0.861667    0.840896    0.972500    0.507463   \n",
       "\n",
       "            casual   registered          cnt  \n",
       "count   731.000000   731.000000   731.000000  \n",
       "mean    848.176471  3656.172367  4504.348837  \n",
       "std     686.622488  1560.256377  1937.211452  \n",
       "min       2.000000    20.000000    22.000000  \n",
       "25%     315.500000  2497.000000  3152.000000  \n",
       "50%     713.000000  3662.000000  4548.000000  \n",
       "75%    1096.000000  4776.500000  5956.000000  \n",
       "max    3410.000000  6946.000000  8714.000000  "
      ]
     },
     "execution_count": 3,
     "metadata": {},
     "output_type": "execute_result"
    }
   ],
   "source": [
    "#Смотрим описание данных\n",
    "df.describe()"
   ]
  },
  {
   "cell_type": "code",
   "execution_count": 4,
   "id": "settled-prague",
   "metadata": {},
   "outputs": [
    {
     "data": {
      "text/html": [
       "<div>\n",
       "<style scoped>\n",
       "    .dataframe tbody tr th:only-of-type {\n",
       "        vertical-align: middle;\n",
       "    }\n",
       "\n",
       "    .dataframe tbody tr th {\n",
       "        vertical-align: top;\n",
       "    }\n",
       "\n",
       "    .dataframe thead th {\n",
       "        text-align: right;\n",
       "    }\n",
       "</style>\n",
       "<table border=\"1\" class=\"dataframe\">\n",
       "  <thead>\n",
       "    <tr style=\"text-align: right;\">\n",
       "      <th></th>\n",
       "      <th>instant</th>\n",
       "      <th>dteday</th>\n",
       "      <th>season</th>\n",
       "      <th>yr</th>\n",
       "      <th>mnth</th>\n",
       "      <th>holiday</th>\n",
       "      <th>weekday</th>\n",
       "      <th>workingday</th>\n",
       "      <th>weathersit</th>\n",
       "      <th>temp</th>\n",
       "      <th>atemp</th>\n",
       "      <th>hum</th>\n",
       "      <th>windspeed</th>\n",
       "      <th>casual</th>\n",
       "      <th>registered</th>\n",
       "      <th>cnt</th>\n",
       "    </tr>\n",
       "  </thead>\n",
       "  <tbody>\n",
       "    <tr>\n",
       "      <th>0</th>\n",
       "      <td>1</td>\n",
       "      <td>2011-01-01</td>\n",
       "      <td>1</td>\n",
       "      <td>0</td>\n",
       "      <td>1</td>\n",
       "      <td>0</td>\n",
       "      <td>6</td>\n",
       "      <td>0</td>\n",
       "      <td>2</td>\n",
       "      <td>0.344167</td>\n",
       "      <td>0.363625</td>\n",
       "      <td>0.805833</td>\n",
       "      <td>0.160446</td>\n",
       "      <td>331</td>\n",
       "      <td>654</td>\n",
       "      <td>985</td>\n",
       "    </tr>\n",
       "    <tr>\n",
       "      <th>1</th>\n",
       "      <td>2</td>\n",
       "      <td>2011-01-02</td>\n",
       "      <td>1</td>\n",
       "      <td>0</td>\n",
       "      <td>1</td>\n",
       "      <td>0</td>\n",
       "      <td>0</td>\n",
       "      <td>0</td>\n",
       "      <td>2</td>\n",
       "      <td>0.363478</td>\n",
       "      <td>0.353739</td>\n",
       "      <td>0.696087</td>\n",
       "      <td>0.248539</td>\n",
       "      <td>131</td>\n",
       "      <td>670</td>\n",
       "      <td>801</td>\n",
       "    </tr>\n",
       "    <tr>\n",
       "      <th>2</th>\n",
       "      <td>3</td>\n",
       "      <td>2011-01-03</td>\n",
       "      <td>1</td>\n",
       "      <td>0</td>\n",
       "      <td>1</td>\n",
       "      <td>0</td>\n",
       "      <td>1</td>\n",
       "      <td>1</td>\n",
       "      <td>1</td>\n",
       "      <td>0.196364</td>\n",
       "      <td>0.189405</td>\n",
       "      <td>0.437273</td>\n",
       "      <td>0.248309</td>\n",
       "      <td>120</td>\n",
       "      <td>1229</td>\n",
       "      <td>1349</td>\n",
       "    </tr>\n",
       "    <tr>\n",
       "      <th>3</th>\n",
       "      <td>4</td>\n",
       "      <td>2011-01-04</td>\n",
       "      <td>1</td>\n",
       "      <td>0</td>\n",
       "      <td>1</td>\n",
       "      <td>0</td>\n",
       "      <td>2</td>\n",
       "      <td>1</td>\n",
       "      <td>1</td>\n",
       "      <td>0.200000</td>\n",
       "      <td>0.212122</td>\n",
       "      <td>0.590435</td>\n",
       "      <td>0.160296</td>\n",
       "      <td>108</td>\n",
       "      <td>1454</td>\n",
       "      <td>1562</td>\n",
       "    </tr>\n",
       "    <tr>\n",
       "      <th>4</th>\n",
       "      <td>5</td>\n",
       "      <td>2011-01-05</td>\n",
       "      <td>1</td>\n",
       "      <td>0</td>\n",
       "      <td>1</td>\n",
       "      <td>0</td>\n",
       "      <td>3</td>\n",
       "      <td>1</td>\n",
       "      <td>1</td>\n",
       "      <td>0.226957</td>\n",
       "      <td>0.229270</td>\n",
       "      <td>0.436957</td>\n",
       "      <td>0.186900</td>\n",
       "      <td>82</td>\n",
       "      <td>1518</td>\n",
       "      <td>1600</td>\n",
       "    </tr>\n",
       "  </tbody>\n",
       "</table>\n",
       "</div>"
      ],
      "text/plain": [
       "   instant      dteday  season  yr  mnth  holiday  weekday  workingday  \\\n",
       "0        1  2011-01-01       1   0     1        0        6           0   \n",
       "1        2  2011-01-02       1   0     1        0        0           0   \n",
       "2        3  2011-01-03       1   0     1        0        1           1   \n",
       "3        4  2011-01-04       1   0     1        0        2           1   \n",
       "4        5  2011-01-05       1   0     1        0        3           1   \n",
       "\n",
       "   weathersit      temp     atemp       hum  windspeed  casual  registered  \\\n",
       "0           2  0.344167  0.363625  0.805833   0.160446     331         654   \n",
       "1           2  0.363478  0.353739  0.696087   0.248539     131         670   \n",
       "2           1  0.196364  0.189405  0.437273   0.248309     120        1229   \n",
       "3           1  0.200000  0.212122  0.590435   0.160296     108        1454   \n",
       "4           1  0.226957  0.229270  0.436957   0.186900      82        1518   \n",
       "\n",
       "    cnt  \n",
       "0   985  \n",
       "1   801  \n",
       "2  1349  \n",
       "3  1562  \n",
       "4  1600  "
      ]
     },
     "execution_count": 4,
     "metadata": {},
     "output_type": "execute_result"
    }
   ],
   "source": [
    "#Смотрим первые значения данных\n",
    "df.head()"
   ]
  },
  {
   "cell_type": "code",
   "execution_count": 5,
   "id": "short-combat",
   "metadata": {},
   "outputs": [],
   "source": [
    "#Отбор признаков: влажность, температура воздуха и скорость ветра\n",
    "X=df[['hum','temp','windspeed']]\n",
    "#Выбираем целовой признак - число арендованных велосипедов\n",
    "y=df['cnt']"
   ]
  },
  {
   "cell_type": "code",
   "execution_count": 6,
   "id": "earlier-tours",
   "metadata": {},
   "outputs": [],
   "source": [
    "#Деление выборки на обучающую (70%) и тестовую (30%)\n",
    "from sklearn.model_selection import train_test_split\n",
    "X_train,X_test,y_train,y_test=train_test_split(X,y,test_size=0.3)"
   ]
  },
  {
   "cell_type": "markdown",
   "id": "normal-sunset",
   "metadata": {},
   "source": [
    "# Linear regressor"
   ]
  },
  {
   "cell_type": "code",
   "execution_count": 7,
   "id": "sticky-exhibition",
   "metadata": {},
   "outputs": [
    {
     "data": {
      "text/plain": [
       "LinearRegression()"
      ]
     },
     "execution_count": 7,
     "metadata": {},
     "output_type": "execute_result"
    }
   ],
   "source": [
    "#Импорт, инициализация и обучение линейного регрессора\n",
    "from sklearn.linear_model import LinearRegression\n",
    "\n",
    "linearModel=LinearRegression()\n",
    "linearModel.fit(X_train,y_train)"
   ]
  },
  {
   "cell_type": "code",
   "execution_count": 8,
   "id": "centered-lafayette",
   "metadata": {},
   "outputs": [
    {
     "name": "stdout",
     "output_type": "stream",
     "text": [
      "Linear Model Estimation:\n",
      "R2_score:  0.42\n",
      "MSE:  2219009.16\n",
      "MAE:  1224.82\n"
     ]
    }
   ],
   "source": [
    "#Тестирование модели на тестовом наборе\n",
    "y_pred_linear=linearModel.predict(X_test)\n",
    "\n",
    "#Получение метрик качества R2, MSE, MAE\n",
    "from sklearn.metrics import r2_score\n",
    "from sklearn.metrics import mean_squared_error\n",
    "from sklearn.metrics import mean_absolute_error\n",
    "\n",
    "print('Linear Model Estimation:')\n",
    "print('R2_score: ',round(r2_score(y_test,y_pred_linear),2))\n",
    "print('MSE: ',round(mean_squared_error(y_test,y_pred_linear),2))\n",
    "print('MAE: ',round(mean_absolute_error(y_test,y_pred_linear),2))"
   ]
  },
  {
   "cell_type": "markdown",
   "id": "meaningful-empty",
   "metadata": {},
   "source": [
    "# Polynomial regressor"
   ]
  },
  {
   "cell_type": "code",
   "execution_count": 9,
   "id": "fleet-probability",
   "metadata": {},
   "outputs": [],
   "source": [
    "#Подготовка полиномиальных характеристик степени 2 для обучающего набора\n",
    "from sklearn.preprocessing import PolynomialFeatures\n",
    "quadratic=PolynomialFeatures(degree=2)\n",
    "X_train_quad=quadratic.fit_transform(X_train)"
   ]
  },
  {
   "cell_type": "code",
   "execution_count": 10,
   "id": "listed-cargo",
   "metadata": {},
   "outputs": [
    {
     "data": {
      "text/plain": [
       "LinearRegression()"
      ]
     },
     "execution_count": 10,
     "metadata": {},
     "output_type": "execute_result"
    }
   ],
   "source": [
    "#Создание линейной регрессии и её обучение на полученных полиномиальных характеристиках степени 2 (полиномиальная регрессия)\n",
    "quadModel=LinearRegression()\n",
    "quadModel.fit(X_train_quad,y_train)"
   ]
  },
  {
   "cell_type": "code",
   "execution_count": 11,
   "id": "indoor-factory",
   "metadata": {},
   "outputs": [
    {
     "name": "stdout",
     "output_type": "stream",
     "text": [
      "Polynomial Model Estimation:\n",
      "R2_score:  0.6\n",
      "MSE:  1535025.77\n",
      "MAE:  1051.34\n"
     ]
    }
   ],
   "source": [
    "#Тестирование полиномиальной модели степени 2 на тестовом наборе\n",
    "X_test_quad=quadratic.fit_transform(X_test)\n",
    "y_pred_quad=quadModel.predict(X_test_quad)\n",
    "\n",
    "print('Polynomial Model Estimation:')\n",
    "print('R2_score: ',round(r2_score(y_test,y_pred_quad),2))\n",
    "print('MSE: ',round(mean_squared_error(y_test,y_pred_quad),2))\n",
    "print('MAE: ',round(mean_absolute_error(y_test,y_pred_quad),2))"
   ]
  },
  {
   "cell_type": "markdown",
   "id": "subsequent-reducing",
   "metadata": {},
   "source": [
    "## Polynomial regressor analysis"
   ]
  },
  {
   "cell_type": "code",
   "execution_count": 12,
   "id": "active-triple",
   "metadata": {},
   "outputs": [],
   "source": [
    "stats = []\n",
    "degrees = range(1, 5)\n",
    "for d in degrees:\n",
    "    pfeatures=PolynomialFeatures(d)\n",
    "    X_train_p=pfeatures.fit_transform(X_train)\n",
    "    pModel=LinearRegression()\n",
    "    pModel.fit(X_train_p,y_train)\n",
    "    X_test_p=pfeatures.fit_transform(X_test)\n",
    "    y_pred_p=pModel.predict(X_test_p)\n",
    "    stats.append([\n",
    "        d, \n",
    "        round(r2_score(y_test,y_pred_p),2), \n",
    "        round(mean_squared_error(y_test,y_pred_p),2), \n",
    "        round(mean_absolute_error(y_test,y_pred_p),2)\n",
    "    ])"
   ]
  },
  {
   "cell_type": "code",
   "execution_count": 13,
   "id": "reverse-mobile",
   "metadata": {},
   "outputs": [
    {
     "name": "stdout",
     "output_type": "stream",
     "text": [
      "┌────────┬──────┬────────────┬─────────┐\n",
      "│ degree │ R2   │ MSE        │ MAE     │\n",
      "├────────┼──────┼────────────┼─────────┤\n",
      "│      1 │ 0.42 │ 2219009.16 │ 1224.82 │\n",
      "├────────┼──────┼────────────┼─────────┤\n",
      "│      2 │  0.6 │ 1535025.77 │ 1051.34 │\n",
      "├────────┼──────┼────────────┼─────────┤\n",
      "│      3 │ 0.63 │ 1420753.75 │ 1022.22 │\n",
      "├────────┼──────┼────────────┼─────────┤\n",
      "│      4 │ 0.61 │  1514529.8 │  1054.5 │\n",
      "└────────┴──────┴────────────┴─────────┘\n"
     ]
    }
   ],
   "source": [
    "import tabletext\n",
    "columns = ['degree', 'R2', 'MSE', 'MAE']\n",
    "data = [columns]\n",
    "data.extend(stats)\n",
    "print(tabletext.to_text(data))"
   ]
  },
  {
   "cell_type": "markdown",
   "id": "later-burlington",
   "metadata": {},
   "source": [
    "# Random forest regressor"
   ]
  },
  {
   "cell_type": "code",
   "execution_count": 14,
   "id": "better-governor",
   "metadata": {},
   "outputs": [
    {
     "data": {
      "text/plain": [
       "RandomForestRegressor(n_estimators=50, n_jobs=-1, random_state=1)"
      ]
     },
     "execution_count": 14,
     "metadata": {},
     "output_type": "execute_result"
    }
   ],
   "source": [
    "from sklearn.ensemble import RandomForestRegressor\n",
    "randomForestModel=RandomForestRegressor(n_estimators=50, n_jobs=-1)\n",
    "randomForestModel.fit(X_train, y_train)"
   ]
  },
  {
   "cell_type": "code",
   "execution_count": 15,
   "id": "changing-government",
   "metadata": {},
   "outputs": [
    {
     "name": "stdout",
     "output_type": "stream",
     "text": [
      "Random Forest Model Estimation:\n",
      "R2_score:  0.56\n",
      "MSE:  1675842.51\n",
      "MAE:  1061.87\n"
     ]
    }
   ],
   "source": [
    "#Тестирование модели Случайный лес на тестовом наборе\n",
    "y_pred_forest=randomForestModel.predict(X_test)\n",
    "\n",
    "print('Random Forest Model Estimation:')\n",
    "print('R2_score: ',round(r2_score(y_test,y_pred_forest),2))\n",
    "print('MSE: ',round(mean_squared_error(y_test,y_pred_forest),2))\n",
    "print('MAE: ',round(mean_absolute_error(y_test,y_pred_forest),2))"
   ]
  },
  {
   "cell_type": "code",
   "execution_count": 16,
   "id": "lovely-psychiatry",
   "metadata": {},
   "outputs": [
    {
     "name": "stdout",
     "output_type": "stream",
     "text": [
      "┌───────────┬─────────────────────┐\n",
      "│ sign      │ value               │\n",
      "├───────────┼─────────────────────┤\n",
      "│ hum       │ 0.22702723755612675 │\n",
      "├───────────┼─────────────────────┤\n",
      "│ temp      │  0.6089991981003124 │\n",
      "├───────────┼─────────────────────┤\n",
      "│ windspeed │ 0.16397356434356092 │\n",
      "└───────────┴─────────────────────┘\n"
     ]
    }
   ],
   "source": [
    "#Вывод значения важности признаков для модели случайного леса\n",
    "columns = ['sign', 'value']\n",
    "stats = list(zip(X.columns, randomForestModel.feature_importances_))\n",
    "data = [columns]\n",
    "data.extend(stats)\n",
    "print(tabletext.to_text(data))"
   ]
  },
  {
   "cell_type": "markdown",
   "id": "funny-viewer",
   "metadata": {},
   "source": [
    "# Random forest regressor analysis"
   ]
  },
  {
   "cell_type": "code",
   "execution_count": 17,
   "id": "norman-tobago",
   "metadata": {},
   "outputs": [],
   "source": [
    "stats = []\n",
    "ns = range(10, 300, 50)\n",
    "for n in ns:\n",
    "    randomForestModel=RandomForestRegressor(n_estimators=n, n_jobs=-1)\n",
    "    randomForestModel.fit(X_train, y_train)\n",
    "    y_pred_forest=randomForestModel.predict(X_test)\n",
    "    stats.append([\n",
    "        n, \n",
    "        round(r2_score(y_test,y_pred_forest),2),\n",
    "        round(mean_squared_error(y_test,y_pred_forest),2), \n",
    "        round(mean_absolute_error(y_test,y_pred_forest),2)\n",
    "    ])"
   ]
  },
  {
   "cell_type": "code",
   "execution_count": 18,
   "id": "suburban-discrimination",
   "metadata": {},
   "outputs": [
    {
     "name": "stdout",
     "output_type": "stream",
     "text": [
      "┌──────────────┬──────┬────────────┬─────────┐\n",
      "│ n_estimators │ R2   │ MSE        │ MAE     │\n",
      "├──────────────┼──────┼────────────┼─────────┤\n",
      "│           10 │ 0.51 │ 1901716.04 │ 1113.94 │\n",
      "├──────────────┼──────┼────────────┼─────────┤\n",
      "│           60 │ 0.55 │ 1735680.16 │ 1080.94 │\n",
      "├──────────────┼──────┼────────────┼─────────┤\n",
      "│          110 │ 0.56 │ 1699848.23 │ 1078.25 │\n",
      "├──────────────┼──────┼────────────┼─────────┤\n",
      "│          160 │ 0.56 │ 1693996.89 │ 1074.38 │\n",
      "├──────────────┼──────┼────────────┼─────────┤\n",
      "│          210 │ 0.56 │ 1685639.53 │ 1068.18 │\n",
      "├──────────────┼──────┼────────────┼─────────┤\n",
      "│          260 │ 0.55 │ 1717255.53 │ 1080.95 │\n",
      "└──────────────┴──────┴────────────┴─────────┘\n"
     ]
    }
   ],
   "source": [
    "columns = ['n_estimators', 'R2', 'MSE', 'MAE']\n",
    "data = [columns]\n",
    "data.extend(stats)\n",
    "print(tabletext.to_text(data))"
   ]
  }
 ],
 "metadata": {
  "kernelspec": {
   "display_name": "Python 3",
   "language": "python",
   "name": "python3"
  },
  "language_info": {
   "codemirror_mode": {
    "name": "ipython",
    "version": 3
   },
   "file_extension": ".py",
   "mimetype": "text/x-python",
   "name": "python",
   "nbconvert_exporter": "python",
   "pygments_lexer": "ipython3",
   "version": "3.9.2"
  }
 },
 "nbformat": 4,
 "nbformat_minor": 5
}
