{
 "cells": [
  {
   "cell_type": "code",
   "execution_count": 1,
   "id": "constant-hammer",
   "metadata": {},
   "outputs": [],
   "source": [
    "import pandas as pd\n",
    "import numpy as np\n",
    "import matplotlib.pyplot as plt\n",
    "import seaborn as sns\n",
    "from sklearn.model_selection import train_test_split\n",
    "from sklearn.model_selection import GridSearchCV\n",
    "from sklearn.neighbors import KNeighborsClassifier\n",
    "from sklearn.ensemble import RandomForestClassifier\n",
    "from sklearn.tree import DecisionTreeClassifier\n",
    "from sklearn.metrics import precision_score\n",
    "from sklearn.metrics import recall_score\n",
    "from sklearn.metrics import confusion_matrix"
   ]
  },
  {
   "cell_type": "code",
   "execution_count": 2,
   "id": "sharing-hawaiian",
   "metadata": {},
   "outputs": [],
   "source": [
    "df = pd.read_csv('../1lab/stroke-data.csv')"
   ]
  },
  {
   "cell_type": "code",
   "execution_count": 3,
   "id": "owned-amino",
   "metadata": {},
   "outputs": [
    {
     "data": {
      "text/html": [
       "<div>\n",
       "<style scoped>\n",
       "    .dataframe tbody tr th:only-of-type {\n",
       "        vertical-align: middle;\n",
       "    }\n",
       "\n",
       "    .dataframe tbody tr th {\n",
       "        vertical-align: top;\n",
       "    }\n",
       "\n",
       "    .dataframe thead th {\n",
       "        text-align: right;\n",
       "    }\n",
       "</style>\n",
       "<table border=\"1\" class=\"dataframe\">\n",
       "  <thead>\n",
       "    <tr style=\"text-align: right;\">\n",
       "      <th></th>\n",
       "      <th>id</th>\n",
       "      <th>gender</th>\n",
       "      <th>age</th>\n",
       "      <th>hypertension</th>\n",
       "      <th>heart_disease</th>\n",
       "      <th>ever_married</th>\n",
       "      <th>work_type</th>\n",
       "      <th>Residence_type</th>\n",
       "      <th>avg_glucose_level</th>\n",
       "      <th>bmi</th>\n",
       "      <th>smoking_status</th>\n",
       "      <th>stroke</th>\n",
       "    </tr>\n",
       "  </thead>\n",
       "  <tbody>\n",
       "    <tr>\n",
       "      <th>0</th>\n",
       "      <td>9046</td>\n",
       "      <td>Male</td>\n",
       "      <td>67.0</td>\n",
       "      <td>0</td>\n",
       "      <td>1</td>\n",
       "      <td>Yes</td>\n",
       "      <td>Private</td>\n",
       "      <td>Urban</td>\n",
       "      <td>228.69</td>\n",
       "      <td>36.6</td>\n",
       "      <td>formerly smoked</td>\n",
       "      <td>1</td>\n",
       "    </tr>\n",
       "    <tr>\n",
       "      <th>1</th>\n",
       "      <td>51676</td>\n",
       "      <td>Female</td>\n",
       "      <td>61.0</td>\n",
       "      <td>0</td>\n",
       "      <td>0</td>\n",
       "      <td>Yes</td>\n",
       "      <td>Self-employed</td>\n",
       "      <td>Rural</td>\n",
       "      <td>202.21</td>\n",
       "      <td>NaN</td>\n",
       "      <td>never smoked</td>\n",
       "      <td>1</td>\n",
       "    </tr>\n",
       "    <tr>\n",
       "      <th>2</th>\n",
       "      <td>31112</td>\n",
       "      <td>Male</td>\n",
       "      <td>80.0</td>\n",
       "      <td>0</td>\n",
       "      <td>1</td>\n",
       "      <td>Yes</td>\n",
       "      <td>Private</td>\n",
       "      <td>Rural</td>\n",
       "      <td>105.92</td>\n",
       "      <td>32.5</td>\n",
       "      <td>never smoked</td>\n",
       "      <td>1</td>\n",
       "    </tr>\n",
       "    <tr>\n",
       "      <th>3</th>\n",
       "      <td>60182</td>\n",
       "      <td>Female</td>\n",
       "      <td>49.0</td>\n",
       "      <td>0</td>\n",
       "      <td>0</td>\n",
       "      <td>Yes</td>\n",
       "      <td>Private</td>\n",
       "      <td>Urban</td>\n",
       "      <td>171.23</td>\n",
       "      <td>34.4</td>\n",
       "      <td>smokes</td>\n",
       "      <td>1</td>\n",
       "    </tr>\n",
       "    <tr>\n",
       "      <th>4</th>\n",
       "      <td>1665</td>\n",
       "      <td>Female</td>\n",
       "      <td>79.0</td>\n",
       "      <td>1</td>\n",
       "      <td>0</td>\n",
       "      <td>Yes</td>\n",
       "      <td>Self-employed</td>\n",
       "      <td>Rural</td>\n",
       "      <td>174.12</td>\n",
       "      <td>24.0</td>\n",
       "      <td>never smoked</td>\n",
       "      <td>1</td>\n",
       "    </tr>\n",
       "  </tbody>\n",
       "</table>\n",
       "</div>"
      ],
      "text/plain": [
       "      id  gender   age  hypertension  heart_disease ever_married  \\\n",
       "0   9046    Male  67.0             0              1          Yes   \n",
       "1  51676  Female  61.0             0              0          Yes   \n",
       "2  31112    Male  80.0             0              1          Yes   \n",
       "3  60182  Female  49.0             0              0          Yes   \n",
       "4   1665  Female  79.0             1              0          Yes   \n",
       "\n",
       "       work_type Residence_type  avg_glucose_level   bmi   smoking_status  \\\n",
       "0        Private          Urban             228.69  36.6  formerly smoked   \n",
       "1  Self-employed          Rural             202.21   NaN     never smoked   \n",
       "2        Private          Rural             105.92  32.5     never smoked   \n",
       "3        Private          Urban             171.23  34.4           smokes   \n",
       "4  Self-employed          Rural             174.12  24.0     never smoked   \n",
       "\n",
       "   stroke  \n",
       "0       1  \n",
       "1       1  \n",
       "2       1  \n",
       "3       1  \n",
       "4       1  "
      ]
     },
     "execution_count": 3,
     "metadata": {},
     "output_type": "execute_result"
    }
   ],
   "source": [
    "df.head()"
   ]
  },
  {
   "cell_type": "code",
   "execution_count": 4,
   "id": "prompt-brown",
   "metadata": {},
   "outputs": [
    {
     "name": "stdout",
     "output_type": "stream",
     "text": [
      "<class 'pandas.core.frame.DataFrame'>\n",
      "RangeIndex: 5110 entries, 0 to 5109\n",
      "Data columns (total 12 columns):\n",
      " #   Column             Non-Null Count  Dtype  \n",
      "---  ------             --------------  -----  \n",
      " 0   id                 5110 non-null   int64  \n",
      " 1   gender             5110 non-null   object \n",
      " 2   age                5110 non-null   float64\n",
      " 3   hypertension       5110 non-null   int64  \n",
      " 4   heart_disease      5110 non-null   int64  \n",
      " 5   ever_married       5110 non-null   object \n",
      " 6   work_type          5110 non-null   object \n",
      " 7   Residence_type     5110 non-null   object \n",
      " 8   avg_glucose_level  5110 non-null   float64\n",
      " 9   bmi                4909 non-null   float64\n",
      " 10  smoking_status     5110 non-null   object \n",
      " 11  stroke             5110 non-null   int64  \n",
      "dtypes: float64(3), int64(4), object(5)\n",
      "memory usage: 479.2+ KB\n"
     ]
    }
   ],
   "source": [
    "df.info()"
   ]
  },
  {
   "cell_type": "code",
   "execution_count": 5,
   "id": "august-princeton",
   "metadata": {},
   "outputs": [
    {
     "data": {
      "text/plain": [
       "id                     0\n",
       "gender                 0\n",
       "age                    0\n",
       "hypertension           0\n",
       "heart_disease          0\n",
       "ever_married           0\n",
       "work_type              0\n",
       "Residence_type         0\n",
       "avg_glucose_level      0\n",
       "bmi                  201\n",
       "smoking_status         0\n",
       "stroke                 0\n",
       "dtype: int64"
      ]
     },
     "execution_count": 5,
     "metadata": {},
     "output_type": "execute_result"
    }
   ],
   "source": [
    "df.isna().sum()"
   ]
  },
  {
   "cell_type": "code",
   "execution_count": 6,
   "id": "italian-estimate",
   "metadata": {},
   "outputs": [
    {
     "data": {
      "text/plain": [
       "id                   0\n",
       "gender               0\n",
       "age                  0\n",
       "hypertension         0\n",
       "heart_disease        0\n",
       "ever_married         0\n",
       "work_type            0\n",
       "Residence_type       0\n",
       "avg_glucose_level    0\n",
       "bmi                  0\n",
       "smoking_status       0\n",
       "stroke               0\n",
       "dtype: int64"
      ]
     },
     "execution_count": 6,
     "metadata": {},
     "output_type": "execute_result"
    }
   ],
   "source": [
    "df = df.dropna()\n",
    "df.isna().sum()"
   ]
  },
  {
   "cell_type": "code",
   "execution_count": 7,
   "id": "veterinary-dealer",
   "metadata": {},
   "outputs": [],
   "source": [
    "train, test = train_test_split(df)"
   ]
  },
  {
   "cell_type": "code",
   "execution_count": 8,
   "id": "tired-victoria",
   "metadata": {},
   "outputs": [
    {
     "data": {
      "image/png": "[encoded data removed]",
      "text/plain": [
       "<Figure size 2160x360 with 4 Axes>"
      ]
     },
     "metadata": {
      "needs_background": "light"
     },
     "output_type": "display_data"
    }
   ],
   "source": [
    "signs = [\"age\", \"avg_glucose_level\", \"bmi\", \"work_type\"]\n",
    "plt.figure(figsize=(30,5))\n",
    "for i, sign in enumerate(signs):\n",
    "    plt.subplot(1, len(signs), i+1)\n",
    "    sns.histplot(data=train, x=sign)\n",
    "    sns.histplot(data=test, x=sign)\n",
    "plt.show()"
   ]
  },
  {
   "cell_type": "code",
   "execution_count": 9,
   "id": "digital-arlington",
   "metadata": {},
   "outputs": [],
   "source": [
    "x_train = train[signs[:-1]].to_numpy()\n",
    "y_train = train[signs[-1]].to_numpy()\n",
    "x_test = test[signs[:-1]].to_numpy()\n",
    "y_test = test[signs[-1]].to_numpy()"
   ]
  },
  {
   "cell_type": "code",
   "execution_count": 10,
   "id": "classical-classroom",
   "metadata": {},
   "outputs": [],
   "source": [
    "anames = ['KNeighborsClassifier',\n",
    "          'RandomForestClassifier',\n",
    "          'DecisionTreeClassifier']\n",
    "clfs = [KNeighborsClassifier(n_neighbors=3),\n",
    "        RandomForestClassifier(max_depth=3),\n",
    "        DecisionTreeClassifier(max_depth=3)]"
   ]
  },
  {
   "cell_type": "code",
   "execution_count": 11,
   "id": "classified-market",
   "metadata": {},
   "outputs": [
    {
     "name": "stdout",
     "output_type": "stream",
     "text": [
      "Algorithm: KNeighborsClassifier\n",
      "Precision: 0.6026058631921825\n",
      "Recall: 0.6026058631921825\n",
      "Confusion matrix:[[ 31   0 114  15   0]\n",
      " [  0   0   0   0   2]\n",
      " [106   5 514  68  10]\n",
      " [ 33   0 123  37   1]\n",
      " [  0   3   8   0 158]]\n",
      "Algorithm: RandomForestClassifier\n",
      "Precision: 0.6986970684039088\n",
      "Recall: 0.6986970684039088\n",
      "Confusion matrix:[[  0   0 160   0   0]\n",
      " [  0   0   0   0   2]\n",
      " [  0   0 699   0   4]\n",
      " [  0   0 193   0   1]\n",
      " [  0   0  10   0 159]]\n",
      "Algorithm: DecisionTreeClassifier\n",
      "Precision: 0.6986970684039088\n",
      "Recall: 0.6986970684039088\n",
      "Confusion matrix:[[  0   0 160   0   0]\n",
      " [  0   0   1   0   1]\n",
      " [  0   1 697   0   5]\n",
      " [  0   1 192   0   1]\n",
      " [  0   1   7   0 161]]\n"
     ]
    }
   ],
   "source": [
    "for i, clf in enumerate(clfs):\n",
    "    clf.fit(x_train, y_train)\n",
    "    y_pred = clf.predict(x_test)\n",
    "    print(f'Algorithm: {anames[i]}')\n",
    "    print(f'Precision: {precision_score(y_test, y_pred, average=\"micro\")}')\n",
    "    print(f'Recall: {recall_score(y_test, y_pred, average=\"micro\")}')\n",
    "    print(f'Confusion matrix:{confusion_matrix(y_test, y_pred)}')"
   ]
  },
  {
   "cell_type": "code",
   "execution_count": 12,
   "id": "authentic-bench",
   "metadata": {},
   "outputs": [],
   "source": [
    "params = [{'n_neighbors': list(range(2,7)), 'leaf_size': list(range(27, 33))},\n",
    "          {'max_depth': list(range(1,6)), 'n_estimators': list(range(97,103))},\n",
    "          {'max_depth': list(range(1,6))}]\n",
    "clfs = [KNeighborsClassifier(),\n",
    "        RandomForestClassifier(),\n",
    "        DecisionTreeClassifier()]\n",
    "for i, clf in enumerate(clfs):\n",
    "    clf = GridSearchCV(clf, params[i], cv=5)\n",
    "    best = clf.fit(x_train, y_train)\n",
    "    clfs[i] = best"
   ]
  },
  {
   "cell_type": "code",
   "execution_count": 13,
   "id": "preliminary-score",
   "metadata": {},
   "outputs": [
    {
     "name": "stdout",
     "output_type": "stream",
     "text": [
      "Algorithm: KNeighborsClassifier\n",
      "{'leaf_size': 27, 'n_neighbors': 6}\n",
      "Precision: 0.6441368078175895\n",
      "Recall: 0.6441368078175895\n",
      "Confusion matrix:[[ 14   0 134  12   0]\n",
      " [  0   0   0   0   2]\n",
      " [ 58   3 592  42   8]\n",
      " [ 25   0 144  25   0]\n",
      " [  0   0   9   0 160]]\n",
      "Algorithm: RandomForestClassifier\n",
      "{'max_depth': 3, 'n_estimators': 101}\n",
      "Precision: 0.6995114006514658\n",
      "Recall: 0.6995114006514658\n",
      "Confusion matrix:[[  0   0 160   0   0]\n",
      " [  0   0   0   0   2]\n",
      " [  0   0 699   0   4]\n",
      " [  0   0 193   0   1]\n",
      " [  0   0   9   0 160]]\n",
      "Algorithm: DecisionTreeClassifier\n",
      "{'max_depth': 1}\n",
      "Precision: 0.6995114006514658\n",
      "Recall: 0.6995114006514658\n",
      "Confusion matrix:[[  0   0 160   0   0]\n",
      " [  0   0   1   0   1]\n",
      " [  0   0 697   0   6]\n",
      " [  0   0 192   0   2]\n",
      " [  0   0   7   0 162]]\n"
     ]
    }
   ],
   "source": [
    "for i, clf in enumerate(clfs):\n",
    "    print(f'Algorithm: {anames[i]}')\n",
    "    dictfilt = lambda a: dict((key, value) for key, value in a.items() if key in params[i])\n",
    "    print(dictfilt(clf.best_estimator_.get_params()))\n",
    "    y_pred = clf.best_estimator_.predict(x_test)\n",
    "    print(f'Precision: {precision_score(y_test, y_pred, average=\"micro\")}')\n",
    "    print(f'Recall: {recall_score(y_test, y_pred, average=\"micro\")}')\n",
    "    print(f'Confusion matrix:{confusion_matrix(y_test, y_pred)}')"
   ]
  }
 ],
 "metadata": {
  "kernelspec": {
   "display_name": "Python 3",
   "language": "python",
   "name": "python3"
  },
  "language_info": {
   "codemirror_mode": {
    "name": "ipython",
    "version": 3
   },
   "file_extension": ".py",
   "mimetype": "text/x-python",
   "name": "python",
   "nbconvert_exporter": "python",
   "pygments_lexer": "ipython3",
   "version": "3.9.2"
  }
 },
 "nbformat": 4,
 "nbformat_minor": 5
}
